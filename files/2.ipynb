{
 "cells": [
  {
   "cell_type": "code",
   "execution_count": null,
   "id": "d00a696a",
   "metadata": {
    "vscode": {
     "languageId": "plaintext"
    }
   },
   "outputs": [],
   "source": [
    "# Cell 0 - Put all these together:\n",
    "import torch\n",
    "import torch.nn as nn\n",
    "import torch.nn.functional as F\n",
    "from torchvision import datasets, transforms\n",
    "from torch.utils.data import DataLoader\n",
    "import matplotlib.pyplot as plt\n",
    "import numpy as np\n"
   ]
  },
  {
   "cell_type": "code",
   "execution_count": null,
   "id": "208699f7",
   "metadata": {
    "vscode": {
     "languageId": "plaintext"
    }
   },
   "outputs": [],
   "source": [
    "device = torch.device(\"cuda\" if torch.cuda.is_available() else \"cpu\")\n",
    "print(device)"
   ]
  },
  {
   "cell_type": "code",
   "execution_count": null,
   "id": "45d8b6b3",
   "metadata": {
    "vscode": {
     "languageId": "plaintext"
    }
   },
   "outputs": [],
   "source": [
    "latent_dim = 20\n",
    "batch_size = 128\n",
    "epochs = 10\n",
    "lr = 1e-3"
   ]
  },
  {
   "cell_type": "code",
   "execution_count": null,
   "id": "2a9d6eb6",
   "metadata": {
    "vscode": {
     "languageId": "plaintext"
    }
   },
   "outputs": [],
   "source": [
    "transform = transforms.Compose([\n",
    "    transforms.ToTensor()\n",
    "])"
   ]
  },
  {
   "cell_type": "code",
   "execution_count": null,
   "id": "f82ac194",
   "metadata": {
    "vscode": {
     "languageId": "plaintext"
    }
   },
   "outputs": [],
   "source": [
    "train_loader = DataLoader(\n",
    "    datasets.MNIST('./data', train=True, download=True, transform=transform),\n",
    "    batch_size=batch_size, shuffle=True\n",
    ")\n"
   ]
  },
  {
   "cell_type": "code",
   "execution_count": null,
   "id": "4771287e",
   "metadata": {
    "vscode": {
     "languageId": "plaintext"
    }
   },
   "outputs": [],
   "source": [
    "class Encoder(nn.Module):\n",
    "    def __init__(self, latent_dim):\n",
    "        super().__init__()\n",
    "        self.conv1 = nn.Conv2d(1, 32, 4, stride=2, padding=1)  # -> 32x14x14\n",
    "        self.conv2 = nn.Conv2d(32, 64, 4, stride=2, padding=1) # -> 64x7x7\n",
    "        self.fc_mu = nn.Linear(64*7*7, latent_dim)\n",
    "        self.fc_logvar = nn.Linear(64*7*7, latent_dim)\n",
    "\n",
    "    def forward(self, x):\n",
    "        x = F.relu(self.conv1(x))\n",
    "        x = F.relu(self.conv2(x))\n",
    "        x = x.view(x.size(0), -1)\n",
    "        return self.fc_mu(x), self.fc_logvar(x)"
   ]
  },
  {
   "cell_type": "code",
   "execution_count": null,
   "id": "b2a67e8c",
   "metadata": {
    "vscode": {
     "languageId": "plaintext"
    }
   },
   "outputs": [],
   "source": [
    "# Decoder Network\n",
    "class Decoder(nn.Module):\n",
    "    def __init__(self, latent_dim):\n",
    "        super().__init__()\n",
    "        self.fc = nn.Linear(latent_dim, 64*7*7)\n",
    "        self.deconv1 = nn.ConvTranspose2d(64, 32, 4, stride=2, padding=1) # -> 32x14x14\n",
    "        self.deconv2 = nn.ConvTranspose2d(32, 1, 4, stride=2, padding=1)  # -> 1x28x28\n",
    "\n",
    "    def forward(self, z):\n",
    "        x = F.relu(self.fc(z)).view(-1, 64, 7, 7)\n",
    "        x = F.relu(self.deconv1(x))\n",
    "        return torch.sigmoid(self.deconv2(x))"
   ]
  },
  {
   "cell_type": "code",
   "execution_count": null,
   "id": "193d9e5f",
   "metadata": {
    "vscode": {
     "languageId": "plaintext"
    }
   },
   "outputs": [],
   "source": [
    "class VAE(nn.Module):\n",
    "    def __init__(self, latent_dim):\n",
    "        super().__init__()\n",
    "        self.encoder = Encoder(latent_dim)\n",
    "        self.decoder = Decoder(latent_dim)\n",
    "\n",
    "    def reparameterize(self, mu, logvar):\n",
    "        std = torch.exp(0.5 * logvar)\n",
    "        eps = torch.randn_like(std)\n",
    "        return mu + eps * std\n",
    "\n",
    "    def forward(self, x):\n",
    "        mu, logvar = self.encoder(x)\n",
    "        z = self.reparameterize(mu, logvar)\n",
    "        x_recon = self.decoder(z)\n",
    "        return x_recon, mu, logvar\n",
    "\n",
    "def vae_loss(x, x_recon, mu, logvar):\n",
    "    # Reconstruction loss\n",
    "    recon_loss = F.binary_cross_entropy(x_recon, x, reduction='sum')\n",
    "    # KL divergence\n",
    "    kl_div = -0.5 * torch.sum(1 + logvar - mu.pow(2) - logvar.exp())\n",
    "    return recon_loss + kl_div\n",
    "\n",
    "# Initialize model\n",
    "vae = VAE(latent_dim).to(device)\n",
    "optimizer = torch.optim.Adam(vae.parameters(), lr=lr)\n",
    "\n",
    "# Training loop\n",
    "vae.train()\n",
    "for epoch in range(epochs):\n",
    "    total_loss = 0\n",
    "    for x, _ in train_loader:\n",
    "        x = x.to(device)\n",
    "        optimizer.zero_grad()\n",
    "        x_recon, mu, logvar = vae(x)\n",
    "        loss = vae_loss(x, x_recon, mu, logvar)\n",
    "        loss.backward()\n",
    "        optimizer.step()\n",
    "        total_loss += loss.item()\n",
    "    print(f\"Epoch {epoch+1}, Loss: {total_loss/len(train_loader.dataset):.4f}\")\n",
    "\n",
    "# Evaluation: generate images\n",
    "vae.eval()\n",
    "with torch.no_grad():\n",
    "    z = torch.randn(64, latent_dim).to(device)\n",
    "    sample = vae.decoder(z).cpu()\n",
    "    grid = np.transpose(torchvision.utils.make_grid(sample, nrow=8, pad_value=1).numpy(), (1, 2, 0))\n",
    "    plt.figure(figsize=(6,6))\n",
    "    plt.title(\"Generated Digits\")\n",
    "    plt.imshow(grid)\n",
    "    plt.axis('off')\n",
    "    plt.show()"
   ]
  }
 ],
 "metadata": {
  "language_info": {
   "name": "python"
  }
 },
 "nbformat": 4,
 "nbformat_minor": 5
}
